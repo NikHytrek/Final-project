{
 "cells": [
  {
   "cell_type": "markdown",
   "metadata": {},
   "source": [
    "# How to get people to the library"
   ]
  },
  {
   "cell_type": "markdown",
   "metadata": {},
   "source": [
    "image 1"
   ]
  },
  {
   "cell_type": "markdown",
   "metadata": {},
   "source": [
    "![key.png](key.png)"
   ]
  },
  {
   "cell_type": "markdown",
   "metadata": {},
   "source": [
    "image 2"
   ]
  },
  {
   "cell_type": "markdown",
   "metadata": {},
   "source": [
    "![attendance](Attendance.png)"
   ]
  },
  {
   "cell_type": "code",
   "execution_count": null,
   "metadata": {},
   "outputs": [],
   "source": [
    "image 3"
   ]
  },
  {
   "cell_type": "markdown",
   "metadata": {},
   "source": [
    "![income](income_line.png)"
   ]
  },
  {
   "cell_type": "code",
   "execution_count": null,
   "metadata": {},
   "outputs": [],
   "source": [
    "image 4"
   ]
  },
  {
   "cell_type": "markdown",
   "metadata": {},
   "source": [
    "![image 4](visit_line.png)"
   ]
  },
  {
   "cell_type": "markdown",
   "metadata": {},
   "source": [
    "image 5"
   ]
  },
  {
   "cell_type": "markdown",
   "metadata": {},
   "source": [
    "![service](attend.png)"
   ]
  },
  {
   "cell_type": "code",
   "execution_count": 1,
   "metadata": {},
   "outputs": [
    {
     "name": "stderr",
     "output_type": "stream",
     "text": [
      "\n",
      "Attaching package: 'dplyr'\n",
      "\n",
      "The following objects are masked from 'package:stats':\n",
      "\n",
      "    filter, lag\n",
      "\n",
      "The following objects are masked from 'package:base':\n",
      "\n",
      "    intersect, setdiff, setequal, union\n",
      "\n",
      "Warning message:\n",
      "\"package 'ggplot2' was built under R version 3.4.4\"\n",
      "Attaching package: 'ggplot2'\n",
      "\n",
      "The following object is masked from 'package:dplyr':\n",
      "\n",
      "    vars\n",
      "\n",
      "Warning message:\n",
      "\"package 'reshape2' was built under R version 3.4.4\"Warning message:\n",
      "\"package 'scales' was built under R version 3.4.4\""
     ]
    }
   ],
   "source": [
    "library(dplyr)\n",
    "library(ggplot2)\n",
    "library(reshape2)\n",
    "library(stringr)\n",
    "library(scales)\n",
    "library(\"RColorBrewer\")"
   ]
  },
  {
   "cell_type": "code",
   "execution_count": 2,
   "metadata": {},
   "outputs": [],
   "source": [
    "range = read.csv(\"Systems 92-12.csv\")"
   ]
  },
  {
   "cell_type": "code",
   "execution_count": 3,
   "metadata": {},
   "outputs": [
    {
     "data": {
      "text/html": [
       "<table>\n",
       "<thead><tr><th scope=col>LIBID</th><th scope=col>LIBNAME</th><th scope=col>PHONE</th><th scope=col>POPU</th><th scope=col>CENTLIB</th><th scope=col>BRANLIB</th><th scope=col>BKMOB</th><th scope=col>MASTER</th><th scope=col>LIBRARIA</th><th scope=col>OTHPAID</th><th scope=col>...</th><th scope=col>VIDEO_PH</th><th scope=col>VIDEO_DL</th><th scope=col>MAT_TYPE</th><th scope=col>CBSA</th><th scope=col>MICROF</th><th scope=col>DB_LO_OT</th><th scope=col>GAL</th><th scope=col>GALMS</th><th scope=col>POSTMS</th><th scope=col>Location</th></tr></thead>\n",
       "<tbody>\n",
       "\t<tr><td>40                           </td><td>ANCHOR POINT PUBLIC LIBRARY  </td><td>9072357345                   </td><td>  1358                       </td><td>1                            </td><td>0                            </td><td>0                            </td><td> 0.00                        </td><td> 0.25                        </td><td> 0.00                        </td><td>...                          </td><td>NA                           </td><td>NA                           </td><td>NA                           </td><td>NA                           </td><td>                             </td><td>NA                           </td><td>                             </td><td>                             </td><td>                             </td><td>                             </td></tr>\n",
       "\t<tr><td>50                           </td><td>ANCHORAGE MUNICIPAL LIBRARIES</td><td>9072612975                   </td><td>272262                       </td><td>1                            </td><td>4                            </td><td>0                            </td><td>34.62                        </td><td>34.62                        </td><td>73.58                        </td><td>...                          </td><td>NA                           </td><td>NA                           </td><td>NA                           </td><td>NA                           </td><td>                             </td><td>NA                           </td><td>                             </td><td>                             </td><td>                             </td><td>                             </td></tr>\n",
       "\t<tr><td>60                           </td><td>ANDERSON VILLAGE LIBRARY     </td><td>9075822628                   </td><td>   649                       </td><td>1                            </td><td>0                            </td><td>0                            </td><td> 0.00                        </td><td> 0.25                        </td><td> 0.00                        </td><td>...                          </td><td>NA                           </td><td>NA                           </td><td>NA                           </td><td>NA                           </td><td>                             </td><td>NA                           </td><td>                             </td><td>                             </td><td>                             </td><td>                             </td></tr>\n",
       "\t<tr><td>70                           </td><td>ANIAK PUBLIC LIBRARY         </td><td>9076754435                   </td><td>   529                       </td><td>1                            </td><td>0                            </td><td>0                            </td><td> 0.00                        </td><td> 0.75                        </td><td> 0.00                        </td><td>...                          </td><td>NA                           </td><td>NA                           </td><td>NA                           </td><td>NA                           </td><td>                             </td><td>NA                           </td><td>                             </td><td>                             </td><td>                             </td><td>                             </td></tr>\n",
       "\t<tr><td>90                           </td><td>KUSKOKWIM CONSORTIUM LIBRARY </td><td>9075434516                   </td><td>  4868                       </td><td>1                            </td><td>0                            </td><td>0                            </td><td> 0.75                        </td><td> 0.75                        </td><td> 2.00                        </td><td>...                          </td><td>NA                           </td><td>NA                           </td><td>NA                           </td><td>NA                           </td><td>                             </td><td>NA                           </td><td>                             </td><td>                             </td><td>                             </td><td>                             </td></tr>\n",
       "\t<tr><td>100                          </td><td>BIG LAKE LIBRARY             </td><td>9078926475                   </td><td>  3818                       </td><td>1                            </td><td>0                            </td><td>0                            </td><td> 0.00                        </td><td> 1.00                        </td><td> 0.25                        </td><td>...                          </td><td>NA                           </td><td>NA                           </td><td>NA                           </td><td>NA                           </td><td>                             </td><td>NA                           </td><td>                             </td><td>                             </td><td>                             </td><td>                             </td></tr>\n",
       "</tbody>\n",
       "</table>\n"
      ],
      "text/latex": [
       "\\begin{tabular}{r|llllllllllllllllllllllllllllllllllllllllllllllllllllllllllllllllllllllllllllllllllllllllllllllllllllllllllllll}\n",
       " LIBID & LIBNAME & PHONE & POPU & CENTLIB & BRANLIB & BKMOB & MASTER & LIBRARIA & OTHPAID & ... & VIDEO\\_PH & VIDEO\\_DL & MAT\\_TYPE & CBSA & MICROF & DB\\_LO\\_OT & GAL & GALMS & POSTMS & Location\\\\\n",
       "\\hline\n",
       "\t 40                            & ANCHOR POINT PUBLIC LIBRARY   & 9072357345                    &   1358                        & 1                             & 0                             & 0                             &  0.00                         &  0.25                         &  0.00                         & ...                           & NA                            & NA                            & NA                            & NA                            &                               & NA                            &                               &                               &                               &                              \\\\\n",
       "\t 50                            & ANCHORAGE MUNICIPAL LIBRARIES & 9072612975                    & 272262                        & 1                             & 4                             & 0                             & 34.62                         & 34.62                         & 73.58                         & ...                           & NA                            & NA                            & NA                            & NA                            &                               & NA                            &                               &                               &                               &                              \\\\\n",
       "\t 60                            & ANDERSON VILLAGE LIBRARY      & 9075822628                    &    649                        & 1                             & 0                             & 0                             &  0.00                         &  0.25                         &  0.00                         & ...                           & NA                            & NA                            & NA                            & NA                            &                               & NA                            &                               &                               &                               &                              \\\\\n",
       "\t 70                            & ANIAK PUBLIC LIBRARY          & 9076754435                    &    529                        & 1                             & 0                             & 0                             &  0.00                         &  0.75                         &  0.00                         & ...                           & NA                            & NA                            & NA                            & NA                            &                               & NA                            &                               &                               &                               &                              \\\\\n",
       "\t 90                            & KUSKOKWIM CONSORTIUM LIBRARY  & 9075434516                    &   4868                        & 1                             & 0                             & 0                             &  0.75                         &  0.75                         &  2.00                         & ...                           & NA                            & NA                            & NA                            & NA                            &                               & NA                            &                               &                               &                               &                              \\\\\n",
       "\t 100                           & BIG LAKE LIBRARY              & 9078926475                    &   3818                        & 1                             & 0                             & 0                             &  0.00                         &  1.00                         &  0.25                         & ...                           & NA                            & NA                            & NA                            & NA                            &                               & NA                            &                               &                               &                               &                              \\\\\n",
       "\\end{tabular}\n"
      ],
      "text/markdown": [
       "\n",
       "LIBID | LIBNAME | PHONE | POPU | CENTLIB | BRANLIB | BKMOB | MASTER | LIBRARIA | OTHPAID | ... | VIDEO_PH | VIDEO_DL | MAT_TYPE | CBSA | MICROF | DB_LO_OT | GAL | GALMS | POSTMS | Location | \n",
       "|---|---|---|---|---|---|\n",
       "| 40                            | ANCHOR POINT PUBLIC LIBRARY   | 9072357345                    |   1358                        | 1                             | 0                             | 0                             |  0.00                         |  0.25                         |  0.00                         | ...                           | NA                            | NA                            | NA                            | NA                            |                               | NA                            |                               |                               |                               |                               | \n",
       "| 50                            | ANCHORAGE MUNICIPAL LIBRARIES | 9072612975                    | 272262                        | 1                             | 4                             | 0                             | 34.62                         | 34.62                         | 73.58                         | ...                           | NA                            | NA                            | NA                            | NA                            |                               | NA                            |                               |                               |                               |                               | \n",
       "| 60                            | ANDERSON VILLAGE LIBRARY      | 9075822628                    |    649                        | 1                             | 0                             | 0                             |  0.00                         |  0.25                         |  0.00                         | ...                           | NA                            | NA                            | NA                            | NA                            |                               | NA                            |                               |                               |                               |                               | \n",
       "| 70                            | ANIAK PUBLIC LIBRARY          | 9076754435                    |    529                        | 1                             | 0                             | 0                             |  0.00                         |  0.75                         |  0.00                         | ...                           | NA                            | NA                            | NA                            | NA                            |                               | NA                            |                               |                               |                               |                               | \n",
       "| 90                            | KUSKOKWIM CONSORTIUM LIBRARY  | 9075434516                    |   4868                        | 1                             | 0                             | 0                             |  0.75                         |  0.75                         |  2.00                         | ...                           | NA                            | NA                            | NA                            | NA                            |                               | NA                            |                               |                               |                               |                               | \n",
       "| 100                           | BIG LAKE LIBRARY              | 9078926475                    |   3818                        | 1                             | 0                             | 0                             |  0.00                         |  1.00                         |  0.25                         | ...                           | NA                            | NA                            | NA                            | NA                            |                               | NA                            |                               |                               |                               |                               | \n",
       "\n",
       "\n"
      ],
      "text/plain": [
       "  LIBID LIBNAME                       PHONE      POPU   CENTLIB BRANLIB BKMOB\n",
       "1 40    ANCHOR POINT PUBLIC LIBRARY   9072357345   1358 1       0       0    \n",
       "2 50    ANCHORAGE MUNICIPAL LIBRARIES 9072612975 272262 1       4       0    \n",
       "3 60    ANDERSON VILLAGE LIBRARY      9075822628    649 1       0       0    \n",
       "4 70    ANIAK PUBLIC LIBRARY          9076754435    529 1       0       0    \n",
       "5 90    KUSKOKWIM CONSORTIUM LIBRARY  9075434516   4868 1       0       0    \n",
       "6 100   BIG LAKE LIBRARY              9078926475   3818 1       0       0    \n",
       "  MASTER LIBRARIA OTHPAID ... VIDEO_PH VIDEO_DL MAT_TYPE CBSA MICROF DB_LO_OT\n",
       "1  0.00   0.25     0.00   ... NA       NA       NA       NA          NA      \n",
       "2 34.62  34.62    73.58   ... NA       NA       NA       NA          NA      \n",
       "3  0.00   0.25     0.00   ... NA       NA       NA       NA          NA      \n",
       "4  0.00   0.75     0.00   ... NA       NA       NA       NA          NA      \n",
       "5  0.75   0.75     2.00   ... NA       NA       NA       NA          NA      \n",
       "6  0.00   1.00     0.25   ... NA       NA       NA       NA          NA      \n",
       "  GAL GALMS POSTMS Location\n",
       "1                          \n",
       "2                          \n",
       "3                          \n",
       "4                          \n",
       "5                          \n",
       "6                          "
      ]
     },
     "metadata": {},
     "output_type": "display_data"
    },
    {
     "data": {
      "text/html": [
       "<table>\n",
       "<thead><tr><th></th><th scope=col>LIBID</th><th scope=col>LIBNAME</th><th scope=col>PHONE</th><th scope=col>POPU</th><th scope=col>CENTLIB</th><th scope=col>BRANLIB</th><th scope=col>BKMOB</th><th scope=col>MASTER</th><th scope=col>LIBRARIA</th><th scope=col>OTHPAID</th><th scope=col>...</th><th scope=col>VIDEO_PH</th><th scope=col>VIDEO_DL</th><th scope=col>MAT_TYPE</th><th scope=col>CBSA</th><th scope=col>MICROF</th><th scope=col>DB_LO_OT</th><th scope=col>GAL</th><th scope=col>GALMS</th><th scope=col>POSTMS</th><th scope=col>Location</th></tr></thead>\n",
       "<tbody>\n",
       "\t<tr><th scope=row>191614</th><td>26                                                                           </td><td>NIOBRARA COUNTY LIBRARY                                                      </td><td>3073343490                                                                   </td><td>NA                                                                           </td><td>1                                                                            </td><td>0                                                                            </td><td>0                                                                            </td><td>0.00                                                                         </td><td>4.25                                                                         </td><td> 0.00                                                                        </td><td>...                                                                          </td><td>5608                                                                         </td><td>0                                                                            </td><td>NA                                                                           </td><td>    0                                                                        </td><td>0                                                                            </td><td> 1                                                                           </td><td>house                                                                        </td><td>STD                                                                          </td><td>NND                                                                          </td><td>425 S MAIN ST\n",
       "LUSK, WY 82225\n",
       "(42.760902000000002, -104.45207499999999)     </td></tr>\n",
       "\t<tr><th scope=row>191615</th><td>29                                                                           </td><td>SUBLETTE COUNTY LIBRARY                                                      </td><td>3073674114                                                                   </td><td>NA                                                                           </td><td>1                                                                            </td><td>1                                                                            </td><td>0                                                                            </td><td>2.00                                                                         </td><td>2.00                                                                         </td><td>13.00                                                                        </td><td>...                                                                          </td><td>6094                                                                         </td><td>0                                                                            </td><td>NA                                                                           </td><td>    0                                                                        </td><td>0                                                                            </td><td> 1                                                                           </td><td>house                                                                        </td><td>ADV                                                                          </td><td>NND                                                                          </td><td>155 S TYLER ST\n",
       "PINEDALE, WY 82941\n",
       "(42.865096999999999, -109.86128100000001)</td></tr>\n",
       "\t<tr><th scope=row>191616</th><td>30                                                                           </td><td>TETON COUNTY LIBRARY                                                         </td><td>3077332164                                                                   </td><td>NA                                                                           </td><td>1                                                                            </td><td>1                                                                            </td><td>0                                                                            </td><td>3.85                                                                         </td><td>6.50                                                                         </td><td>30.15                                                                        </td><td>...                                                                          </td><td>7026                                                                         </td><td>0                                                                            </td><td>NA                                                                           </td><td>27220                                                                        </td><td>1                                                                            </td><td>15                                                                           </td><td>addresspoint                                                                 </td><td>STD                                                                          </td><td>NND                                                                          </td><td>125 VIRGINIAN LANE\n",
       "JACKSON, WY 83001\n",
       "(43.471780000000003, -110.779203)     </td></tr>\n",
       "\t<tr><th scope=row>191617</th><td>31                                                                           </td><td>UINTA COUNTY LIBRARIES                                                       </td><td>3077892770                                                                   </td><td>NA                                                                           </td><td>1                                                                            </td><td>2                                                                            </td><td>0                                                                            </td><td>3.00                                                                         </td><td>3.00                                                                         </td><td>10.00                                                                        </td><td>...                                                                          </td><td>9525                                                                         </td><td>0                                                                            </td><td>NA                                                                           </td><td>21740                                                                        </td><td>1                                                                            </td><td> 3                                                                           </td><td>addresspoint                                                                 </td><td>STD                                                                          </td><td>NND                                                                          </td><td>701 MAIN ST\n",
       "EVANSTON, WY 82930\n",
       "(41.265974999999997, -110.96340499999999)   </td></tr>\n",
       "\t<tr><th scope=row>191618</th><td>32                                                                           </td><td>WASHAKIE COUNTY LIBRARY                                                      </td><td>3073472231                                                                   </td><td>NA                                                                           </td><td>1                                                                            </td><td>1                                                                            </td><td>0                                                                            </td><td>0.00                                                                         </td><td>2.00                                                                         </td><td> 3.50                                                                        </td><td>...                                                                          </td><td>2573                                                                         </td><td>0                                                                            </td><td>NA                                                                           </td><td>    0                                                                        </td><td>0                                                                            </td><td> 0                                                                           </td><td>house                                                                        </td><td>STD                                                                          </td><td>NND                                                                          </td><td>1019 COBURN AVE\n",
       "WORLAND, WY 82401\n",
       "(44.015771000000001, -107.955461)        </td></tr>\n",
       "\t<tr><th scope=row>191619</th><td>33                                                                           </td><td>WESTON COUNTY LIBRARY SYSTEM                                                 </td><td>3077462206                                                                   </td><td>NA                                                                           </td><td>1                                                                            </td><td>1                                                                            </td><td>0                                                                            </td><td>0.00                                                                         </td><td>4.00                                                                         </td><td> 2.58                                                                        </td><td>...                                                                          </td><td>2973                                                                         </td><td>0                                                                            </td><td>NA                                                                           </td><td>    0                                                                        </td><td>0                                                                            </td><td> 5                                                                           </td><td>house                                                                        </td><td>STD                                                                          </td><td>NND                                                                          </td><td>23 WEST MAIN ST\n",
       "NEWCASTLE, WY 82701\n",
       "(43.855671000000001, -104.202302)      </td></tr>\n",
       "</tbody>\n",
       "</table>\n"
      ],
      "text/latex": [
       "\\begin{tabular}{r|llllllllllllllllllllllllllllllllllllllllllllllllllllllllllllllllllllllllllllllllllllllllllllllllllllllllllllll}\n",
       "  & LIBID & LIBNAME & PHONE & POPU & CENTLIB & BRANLIB & BKMOB & MASTER & LIBRARIA & OTHPAID & ... & VIDEO\\_PH & VIDEO\\_DL & MAT\\_TYPE & CBSA & MICROF & DB\\_LO\\_OT & GAL & GALMS & POSTMS & Location\\\\\n",
       "\\hline\n",
       "\t191614 & 26                                                                            & NIOBRARA COUNTY LIBRARY                                                       & 3073343490                                                                    & NA                                                                            & 1                                                                             & 0                                                                             & 0                                                                             & 0.00                                                                          & 4.25                                                                          &  0.00                                                                         & ...                                                                           & 5608                                                                          & 0                                                                             & NA                                                                            &     0                                                                         & 0                                                                             &  1                                                                            & house                                                                         & STD                                                                           & NND                                                                           & 425 S MAIN ST\n",
       "LUSK, WY 82225\n",
       "(42.760902000000002, -104.45207499999999)     \\\\\n",
       "\t191615 & 29                                                                            & SUBLETTE COUNTY LIBRARY                                                       & 3073674114                                                                    & NA                                                                            & 1                                                                             & 1                                                                             & 0                                                                             & 2.00                                                                          & 2.00                                                                          & 13.00                                                                         & ...                                                                           & 6094                                                                          & 0                                                                             & NA                                                                            &     0                                                                         & 0                                                                             &  1                                                                            & house                                                                         & ADV                                                                           & NND                                                                           & 155 S TYLER ST\n",
       "PINEDALE, WY 82941\n",
       "(42.865096999999999, -109.86128100000001)\\\\\n",
       "\t191616 & 30                                                                            & TETON COUNTY LIBRARY                                                          & 3077332164                                                                    & NA                                                                            & 1                                                                             & 1                                                                             & 0                                                                             & 3.85                                                                          & 6.50                                                                          & 30.15                                                                         & ...                                                                           & 7026                                                                          & 0                                                                             & NA                                                                            & 27220                                                                         & 1                                                                             & 15                                                                            & addresspoint                                                                  & STD                                                                           & NND                                                                           & 125 VIRGINIAN LANE\n",
       "JACKSON, WY 83001\n",
       "(43.471780000000003, -110.779203)     \\\\\n",
       "\t191617 & 31                                                                            & UINTA COUNTY LIBRARIES                                                        & 3077892770                                                                    & NA                                                                            & 1                                                                             & 2                                                                             & 0                                                                             & 3.00                                                                          & 3.00                                                                          & 10.00                                                                         & ...                                                                           & 9525                                                                          & 0                                                                             & NA                                                                            & 21740                                                                         & 1                                                                             &  3                                                                            & addresspoint                                                                  & STD                                                                           & NND                                                                           & 701 MAIN ST\n",
       "EVANSTON, WY 82930\n",
       "(41.265974999999997, -110.96340499999999)   \\\\\n",
       "\t191618 & 32                                                                            & WASHAKIE COUNTY LIBRARY                                                       & 3073472231                                                                    & NA                                                                            & 1                                                                             & 1                                                                             & 0                                                                             & 0.00                                                                          & 2.00                                                                          &  3.50                                                                         & ...                                                                           & 2573                                                                          & 0                                                                             & NA                                                                            &     0                                                                         & 0                                                                             &  0                                                                            & house                                                                         & STD                                                                           & NND                                                                           & 1019 COBURN AVE\n",
       "WORLAND, WY 82401\n",
       "(44.015771000000001, -107.955461)        \\\\\n",
       "\t191619 & 33                                                                            & WESTON COUNTY LIBRARY SYSTEM                                                  & 3077462206                                                                    & NA                                                                            & 1                                                                             & 1                                                                             & 0                                                                             & 0.00                                                                          & 4.00                                                                          &  2.58                                                                         & ...                                                                           & 2973                                                                          & 0                                                                             & NA                                                                            &     0                                                                         & 0                                                                             &  5                                                                            & house                                                                         & STD                                                                           & NND                                                                           & 23 WEST MAIN ST\n",
       "NEWCASTLE, WY 82701\n",
       "(43.855671000000001, -104.202302)      \\\\\n",
       "\\end{tabular}\n"
      ],
      "text/markdown": [
       "\n",
       "| <!--/--> | LIBID | LIBNAME | PHONE | POPU | CENTLIB | BRANLIB | BKMOB | MASTER | LIBRARIA | OTHPAID | ... | VIDEO_PH | VIDEO_DL | MAT_TYPE | CBSA | MICROF | DB_LO_OT | GAL | GALMS | POSTMS | Location | \n",
       "|---|---|---|---|---|---|\n",
       "| 191614 | 26                                                                            | NIOBRARA COUNTY LIBRARY                                                       | 3073343490                                                                    | NA                                                                            | 1                                                                             | 0                                                                             | 0                                                                             | 0.00                                                                          | 4.25                                                                          |  0.00                                                                         | ...                                                                           | 5608                                                                          | 0                                                                             | NA                                                                            |     0                                                                         | 0                                                                             |  1                                                                            | house                                                                         | STD                                                                           | NND                                                                           | 425 S MAIN ST\n",
       "LUSK, WY 82225\n",
       "(42.760902000000002, -104.45207499999999)      | \n",
       "| 191615 | 29                                                                            | SUBLETTE COUNTY LIBRARY                                                       | 3073674114                                                                    | NA                                                                            | 1                                                                             | 1                                                                             | 0                                                                             | 2.00                                                                          | 2.00                                                                          | 13.00                                                                         | ...                                                                           | 6094                                                                          | 0                                                                             | NA                                                                            |     0                                                                         | 0                                                                             |  1                                                                            | house                                                                         | ADV                                                                           | NND                                                                           | 155 S TYLER ST\n",
       "PINEDALE, WY 82941\n",
       "(42.865096999999999, -109.86128100000001) | \n",
       "| 191616 | 30                                                                            | TETON COUNTY LIBRARY                                                          | 3077332164                                                                    | NA                                                                            | 1                                                                             | 1                                                                             | 0                                                                             | 3.85                                                                          | 6.50                                                                          | 30.15                                                                         | ...                                                                           | 7026                                                                          | 0                                                                             | NA                                                                            | 27220                                                                         | 1                                                                             | 15                                                                            | addresspoint                                                                  | STD                                                                           | NND                                                                           | 125 VIRGINIAN LANE\n",
       "JACKSON, WY 83001\n",
       "(43.471780000000003, -110.779203)      | \n",
       "| 191617 | 31                                                                            | UINTA COUNTY LIBRARIES                                                        | 3077892770                                                                    | NA                                                                            | 1                                                                             | 2                                                                             | 0                                                                             | 3.00                                                                          | 3.00                                                                          | 10.00                                                                         | ...                                                                           | 9525                                                                          | 0                                                                             | NA                                                                            | 21740                                                                         | 1                                                                             |  3                                                                            | addresspoint                                                                  | STD                                                                           | NND                                                                           | 701 MAIN ST\n",
       "EVANSTON, WY 82930\n",
       "(41.265974999999997, -110.96340499999999)    | \n",
       "| 191618 | 32                                                                            | WASHAKIE COUNTY LIBRARY                                                       | 3073472231                                                                    | NA                                                                            | 1                                                                             | 1                                                                             | 0                                                                             | 0.00                                                                          | 2.00                                                                          |  3.50                                                                         | ...                                                                           | 2573                                                                          | 0                                                                             | NA                                                                            |     0                                                                         | 0                                                                             |  0                                                                            | house                                                                         | STD                                                                           | NND                                                                           | 1019 COBURN AVE\n",
       "WORLAND, WY 82401\n",
       "(44.015771000000001, -107.955461)         | \n",
       "| 191619 | 33                                                                            | WESTON COUNTY LIBRARY SYSTEM                                                  | 3077462206                                                                    | NA                                                                            | 1                                                                             | 1                                                                             | 0                                                                             | 0.00                                                                          | 4.00                                                                          |  2.58                                                                         | ...                                                                           | 2973                                                                          | 0                                                                             | NA                                                                            |     0                                                                         | 0                                                                             |  5                                                                            | house                                                                         | STD                                                                           | NND                                                                           | 23 WEST MAIN ST\n",
       "NEWCASTLE, WY 82701\n",
       "(43.855671000000001, -104.202302)       | \n",
       "\n",
       "\n"
      ],
      "text/plain": [
       "       LIBID LIBNAME                      PHONE      POPU CENTLIB BRANLIB BKMOB\n",
       "191614 26    NIOBRARA COUNTY LIBRARY      3073343490 NA   1       0       0    \n",
       "191615 29    SUBLETTE COUNTY LIBRARY      3073674114 NA   1       1       0    \n",
       "191616 30    TETON COUNTY LIBRARY         3077332164 NA   1       1       0    \n",
       "191617 31    UINTA COUNTY LIBRARIES       3077892770 NA   1       2       0    \n",
       "191618 32    WASHAKIE COUNTY LIBRARY      3073472231 NA   1       1       0    \n",
       "191619 33    WESTON COUNTY LIBRARY SYSTEM 3077462206 NA   1       1       0    \n",
       "       MASTER LIBRARIA OTHPAID ... VIDEO_PH VIDEO_DL MAT_TYPE CBSA  MICROF\n",
       "191614 0.00   4.25      0.00   ... 5608     0        NA           0 0     \n",
       "191615 2.00   2.00     13.00   ... 6094     0        NA           0 0     \n",
       "191616 3.85   6.50     30.15   ... 7026     0        NA       27220 1     \n",
       "191617 3.00   3.00     10.00   ... 9525     0        NA       21740 1     \n",
       "191618 0.00   2.00      3.50   ... 2573     0        NA           0 0     \n",
       "191619 0.00   4.00      2.58   ... 2973     0        NA           0 0     \n",
       "       DB_LO_OT GAL          GALMS POSTMS\n",
       "191614  1       house        STD   NND   \n",
       "191615  1       house        ADV   NND   \n",
       "191616 15       addresspoint STD   NND   \n",
       "191617  3       addresspoint STD   NND   \n",
       "191618  0       house        STD   NND   \n",
       "191619  5       house        STD   NND   \n",
       "       Location                                                                     \n",
       "191614 425 S MAIN ST\\nLUSK, WY 82225\\n(42.760902000000002, -104.45207499999999)     \n",
       "191615 155 S TYLER ST\\nPINEDALE, WY 82941\\n(42.865096999999999, -109.86128100000001)\n",
       "191616 125 VIRGINIAN LANE\\nJACKSON, WY 83001\\n(43.471780000000003, -110.779203)     \n",
       "191617 701 MAIN ST\\nEVANSTON, WY 82930\\n(41.265974999999997, -110.96340499999999)   \n",
       "191618 1019 COBURN AVE\\nWORLAND, WY 82401\\n(44.015771000000001, -107.955461)        \n",
       "191619 23 WEST MAIN ST\\nNEWCASTLE, WY 82701\\n(43.855671000000001, -104.202302)      "
      ]
     },
     "metadata": {},
     "output_type": "display_data"
    }
   ],
   "source": [
    "head(range)\n",
    "tail(range)"
   ]
  },
  {
   "cell_type": "code",
   "execution_count": 4,
   "metadata": {},
   "outputs": [
    {
     "data": {
      "text/html": [
       "<table>\n",
       "<thead><tr><th scope=col>TOTINCM</th><th scope=col>PLSYEAR</th><th scope=col>STABR</th><th scope=col>ATTEND</th></tr></thead>\n",
       "<tbody>\n",
       "\t<tr><td>   9203</td><td>1992   </td><td>AK     </td><td>   2500</td></tr>\n",
       "\t<tr><td>7374190</td><td>1992   </td><td>AK     </td><td>1000721</td></tr>\n",
       "\t<tr><td>  14887</td><td>1992   </td><td>AK     </td><td>   2266</td></tr>\n",
       "\t<tr><td>  17631</td><td>1992   </td><td>AK     </td><td>   3000</td></tr>\n",
       "\t<tr><td> 263549</td><td>1992   </td><td>AK     </td><td>  32000</td></tr>\n",
       "\t<tr><td>  94262</td><td>1992   </td><td>AK     </td><td>  14496</td></tr>\n",
       "</tbody>\n",
       "</table>\n"
      ],
      "text/latex": [
       "\\begin{tabular}{r|llll}\n",
       " TOTINCM & PLSYEAR & STABR & ATTEND\\\\\n",
       "\\hline\n",
       "\t    9203 & 1992    & AK      &    2500\\\\\n",
       "\t 7374190 & 1992    & AK      & 1000721\\\\\n",
       "\t   14887 & 1992    & AK      &    2266\\\\\n",
       "\t   17631 & 1992    & AK      &    3000\\\\\n",
       "\t  263549 & 1992    & AK      &   32000\\\\\n",
       "\t   94262 & 1992    & AK      &   14496\\\\\n",
       "\\end{tabular}\n"
      ],
      "text/markdown": [
       "\n",
       "TOTINCM | PLSYEAR | STABR | ATTEND | \n",
       "|---|---|---|---|---|---|\n",
       "|    9203 | 1992    | AK      |    2500 | \n",
       "| 7374190 | 1992    | AK      | 1000721 | \n",
       "|   14887 | 1992    | AK      |    2266 | \n",
       "|   17631 | 1992    | AK      |    3000 | \n",
       "|  263549 | 1992    | AK      |   32000 | \n",
       "|   94262 | 1992    | AK      |   14496 | \n",
       "\n",
       "\n"
      ],
      "text/plain": [
       "  TOTINCM PLSYEAR STABR ATTEND \n",
       "1    9203 1992    AK       2500\n",
       "2 7374190 1992    AK    1000721\n",
       "3   14887 1992    AK       2266\n",
       "4   17631 1992    AK       3000\n",
       "5  263549 1992    AK      32000\n",
       "6   94262 1992    AK      14496"
      ]
     },
     "metadata": {},
     "output_type": "display_data"
    }
   ],
   "source": [
    "smallrange = range %>%\n",
    "select(\"TOTINCM\", \"PLSYEAR\", \"STABR\", \"ATTEND\")\n",
    "head(smallrange)"
   ]
  },
  {
   "cell_type": "code",
   "execution_count": 5,
   "metadata": {
    "scrolled": false
   },
   "outputs": [
    {
     "name": "stderr",
     "output_type": "stream",
     "text": [
      "Warning message:\n",
      "\"package 'bindrcpp' was built under R version 3.4.4\""
     ]
    },
    {
     "data": {
      "text/html": [
       "<table>\n",
       "<thead><tr><th scope=col>PLSYEAR</th><th scope=col>totals</th></tr></thead>\n",
       "<tbody>\n",
       "\t<tr><td>1992      </td><td>5011103695</td></tr>\n",
       "\t<tr><td>1993      </td><td>5086093021</td></tr>\n",
       "\t<tr><td>1994      </td><td>5282169336</td></tr>\n",
       "\t<tr><td>1995      </td><td>5593971417</td></tr>\n",
       "\t<tr><td>1996      </td><td>5904967392</td></tr>\n",
       "\t<tr><td>1997      </td><td>6267754375</td></tr>\n",
       "</tbody>\n",
       "</table>\n"
      ],
      "text/latex": [
       "\\begin{tabular}{r|ll}\n",
       " PLSYEAR & totals\\\\\n",
       "\\hline\n",
       "\t 1992       & 5011103695\\\\\n",
       "\t 1993       & 5086093021\\\\\n",
       "\t 1994       & 5282169336\\\\\n",
       "\t 1995       & 5593971417\\\\\n",
       "\t 1996       & 5904967392\\\\\n",
       "\t 1997       & 6267754375\\\\\n",
       "\\end{tabular}\n"
      ],
      "text/markdown": [
       "\n",
       "PLSYEAR | totals | \n",
       "|---|---|---|---|---|---|\n",
       "| 1992       | 5011103695 | \n",
       "| 1993       | 5086093021 | \n",
       "| 1994       | 5282169336 | \n",
       "| 1995       | 5593971417 | \n",
       "| 1996       | 5904967392 | \n",
       "| 1997       | 6267754375 | \n",
       "\n",
       "\n"
      ],
      "text/plain": [
       "  PLSYEAR totals    \n",
       "1 1992    5011103695\n",
       "2 1993    5086093021\n",
       "3 1994    5282169336\n",
       "4 1995    5593971417\n",
       "5 1996    5904967392\n",
       "6 1997    6267754375"
      ]
     },
     "metadata": {},
     "output_type": "display_data"
    }
   ],
   "source": [
    "barchart <- smallrange %>%\n",
    "group_by(PLSYEAR) %>%\n",
    "mutate(income = as.numeric(TOTINCM)) %>%\n",
    "summarize(totals = sum(income)) %>%\n",
    "filter(PLSYEAR > 0)\n",
    "\n",
    "head(barchart)"
   ]
  },
  {
   "cell_type": "code",
   "execution_count": 6,
   "metadata": {
    "scrolled": false
   },
   "outputs": [
    {
     "name": "stderr",
     "output_type": "stream",
     "text": [
      "Warning message:\n",
      "\"Removed 13 rows containing missing values (geom_path).\""
     ]
    },
    {
     "data": {},
     "metadata": {},
     "output_type": "display_data"
    },
    {
     "data": {
      "image/png": "[encoded data removed]",
      "text/plain": [
       "plot without title"
      ]
     },
     "metadata": {},
     "output_type": "display_data"
    }
   ],
   "source": [
    "ggplot(barchart, aes(x=PLSYEAR, y=totals)) + geom_line() + scale_x_continuous(limits = c(1991, 1999)) + \n",
    "scale_y_continuous(limits = c(0,12000000000), labels=comma) + labs(x=\"Year\", y=\"Income\", title=\"Library Funding From 1991-1999\",\n",
    "                                                                  subtitle=\"Library spending increased in the eight-year period, and continued to grow going into the 2000s\",\n",
    "                                                                  caption=\"Source: Institute of Library and Museum Services, Graphic by Nikoel Hytrek\")"
   ]
  },
  {
   "cell_type": "code",
   "execution_count": 7,
   "metadata": {},
   "outputs": [
    {
     "name": "stderr",
     "output_type": "stream",
     "text": [
      "Warning message:\n",
      "\"Removed 13 rows containing missing values (geom_path).\""
     ]
    }
   ],
   "source": [
    "ggsave(\"income_line.pdf\", width=9, height=4)"
   ]
  },
  {
   "cell_type": "code",
   "execution_count": 8,
   "metadata": {},
   "outputs": [
    {
     "data": {
      "text/html": [
       "<table>\n",
       "<thead><tr><th scope=col>PLSYEAR</th><th scope=col>totals</th></tr></thead>\n",
       "<tbody>\n",
       "\t<tr><td>1992      </td><td> 932349435</td></tr>\n",
       "\t<tr><td>1993      </td><td> 961791956</td></tr>\n",
       "\t<tr><td>1994      </td><td> 961267587</td></tr>\n",
       "\t<tr><td>1995      </td><td> 981506189</td></tr>\n",
       "\t<tr><td>1996      </td><td>1013798116</td></tr>\n",
       "\t<tr><td>1997      </td><td>1057940043</td></tr>\n",
       "</tbody>\n",
       "</table>\n"
      ],
      "text/latex": [
       "\\begin{tabular}{r|ll}\n",
       " PLSYEAR & totals\\\\\n",
       "\\hline\n",
       "\t 1992       &  932349435\\\\\n",
       "\t 1993       &  961791956\\\\\n",
       "\t 1994       &  961267587\\\\\n",
       "\t 1995       &  981506189\\\\\n",
       "\t 1996       & 1013798116\\\\\n",
       "\t 1997       & 1057940043\\\\\n",
       "\\end{tabular}\n"
      ],
      "text/markdown": [
       "\n",
       "PLSYEAR | totals | \n",
       "|---|---|---|---|---|---|\n",
       "| 1992       |  932349435 | \n",
       "| 1993       |  961791956 | \n",
       "| 1994       |  961267587 | \n",
       "| 1995       |  981506189 | \n",
       "| 1996       | 1013798116 | \n",
       "| 1997       | 1057940043 | \n",
       "\n",
       "\n"
      ],
      "text/plain": [
       "  PLSYEAR totals    \n",
       "1 1992     932349435\n",
       "2 1993     961791956\n",
       "3 1994     961267587\n",
       "4 1995     981506189\n",
       "5 1996    1013798116\n",
       "6 1997    1057940043"
      ]
     },
     "metadata": {},
     "output_type": "display_data"
    }
   ],
   "source": [
    "nextchart <- smallrange %>%\n",
    "group_by(PLSYEAR) %>%\n",
    "summarize(totals = sum(ATTEND)) %>%\n",
    "filter(PLSYEAR > 0)\n",
    "\n",
    "head(nextchart)"
   ]
  },
  {
   "cell_type": "code",
   "execution_count": 10,
   "metadata": {},
   "outputs": [
    {
     "name": "stderr",
     "output_type": "stream",
     "text": [
      "Warning message:\n",
      "\"Removed 15 rows containing missing values (geom_path).\""
     ]
    },
    {
     "data": {},
     "metadata": {},
     "output_type": "display_data"
    },
    {
     "data": {
      "image/png": "[encoded data removed]",
      "text/plain": [
       "plot without title"
      ]
     },
     "metadata": {},
     "output_type": "display_data"
    }
   ],
   "source": [
    "ggplot(nextchart, aes(x=PLSYEAR, y=totals)) + geom_line() + scale_x_continuous(limits = c(1991, 1999))+ \n",
    "scale_y_continuous(labels=comma) + labs(x=\"Year\", y=\"Total Attendance\", title=\"Visits to and Use of Libraries, 1991-1999\", \n",
    "                                       subtitle=\"The number of people going to or visiting the library increased dramatically\", \n",
    "                                       caption=\"Source: Institute of Library and Museum Services, Graphic by Nikoel Hytrek\")"
   ]
  },
  {
   "cell_type": "code",
   "execution_count": 11,
   "metadata": {},
   "outputs": [
    {
     "name": "stderr",
     "output_type": "stream",
     "text": [
      "Warning message:\n",
      "\"Removed 15 rows containing missing values (geom_path).\""
     ]
    }
   ],
   "source": [
    "ggsave(\"visit_line.pdf\", width=9, height=4)"
   ]
  },
  {
   "cell_type": "code",
   "execution_count": 12,
   "metadata": {},
   "outputs": [],
   "source": [
    "recent = read.csv(\"States 2015.csv\")"
   ]
  },
  {
   "cell_type": "code",
   "execution_count": 13,
   "metadata": {
    "scrolled": false
   },
   "outputs": [
    {
     "data": {
      "text/html": [
       "<table>\n",
       "<thead><tr><th scope=col>STATE</th><th scope=col>SERVICE.AREA.POPULATION</th><th scope=col>UNDUPLICATED.POPULATION</th><th scope=col>STATE.POPULATION</th><th scope=col>CENTRAL.LIBRARIES</th><th scope=col>BRANCH.LIBRARIES</th><th scope=col>BOOKMOBILES</th><th scope=col>MLS.LIBRARIAN.STAFF</th><th scope=col>LIBRARIAN.STAFF</th><th scope=col>OTHER.STAFF</th><th scope=col>...</th><th scope=col>PROGRAM.AUDIENCE</th><th scope=col>KIDS.PROGRAM.AUDIENCE</th><th scope=col>YA.PROGRAM.AUDIENCE</th><th scope=col>COMPUTERS</th><th scope=col>COMPUTER.USES</th><th scope=col>WIFI.SESSIONS</th><th scope=col>START.DATE</th><th scope=col>END.DATE</th><th scope=col>YEAR</th><th scope=col>BEA.REGION</th></tr></thead>\n",
       "<tbody>\n",
       "\t<tr><td>AK      </td><td>  654479</td><td>  647583</td><td>  737625</td><td> 86     </td><td> 16     </td><td> 1      </td><td>  58.86 </td><td> 118.31 </td><td> 193.09 </td><td>...     </td><td> 254172 </td><td> 177102 </td><td> 21401  </td><td> 1069   </td><td>  749206</td><td>  730747</td><td>14-Jan  </td><td>15-Jun  </td><td>2016    </td><td>8       </td></tr>\n",
       "\t<tr><td>AL      </td><td> 4833722</td><td> 4833722</td><td> 4833722</td><td>222     </td><td> 74     </td><td>16      </td><td> 328.08 </td><td> 730.76 </td><td> 988.72 </td><td>...     </td><td>1121601 </td><td> 723637 </td><td> 93665  </td><td> 5556   </td><td> 4277108</td><td> 3703127</td><td>14-Oct  </td><td>15-Sep  </td><td>2016    </td><td>5       </td></tr>\n",
       "\t<tr><td>AR      </td><td> 2833849</td><td> 2643928</td><td> 2915918</td><td> 54     </td><td>179     </td><td> 2      </td><td> 145.11 </td><td> 282.61 </td><td> 723.28 </td><td>...     </td><td>1050483 </td><td> 738691 </td><td>103945  </td><td> 2718   </td><td> 1858903</td><td> 1150709</td><td>15-Jan  </td><td>15-Dec  </td><td>2016    </td><td>5       </td></tr>\n",
       "\t<tr><td>AS      </td><td>   60863</td><td>   60324</td><td>   60863</td><td>  1     </td><td>  1     </td><td> 0      </td><td>   1.00 </td><td>   7.00 </td><td>   3.00 </td><td>...     </td><td>   6846 </td><td>   6684 </td><td>    12  </td><td>   20   </td><td>    7118</td><td>    2420</td><td>14-Oct  </td><td>15-Sep  </td><td>2016    </td><td>9       </td></tr>\n",
       "\t<tr><td>AZ      </td><td>10652448</td><td> 6758251</td><td> 6758251</td><td> 85     </td><td>136     </td><td>11      </td><td> 473.98 </td><td> 560.61 </td><td>1492.25 </td><td>...     </td><td>1526227 </td><td>1064657 </td><td>100069  </td><td> 7630   </td><td> 7150328</td><td> 5340816</td><td>14-Jul  </td><td>15-Jun  </td><td>2016    </td><td>6       </td></tr>\n",
       "\t<tr><td>CA      </td><td>38697702</td><td>38697702</td><td>38714725</td><td>166     </td><td>949     </td><td>51      </td><td>3080.26 </td><td>3268.83 </td><td>8510.39 </td><td>...     </td><td>9428715 </td><td>7051832 </td><td>553731  </td><td>22251   </td><td>32275277</td><td>15496024</td><td>14-Jul  </td><td>15-Jun  </td><td>2016    </td><td>8       </td></tr>\n",
       "</tbody>\n",
       "</table>\n"
      ],
      "text/latex": [
       "\\begin{tabular}{r|lllllllllllllllllllllllllllllllllllllllllllllllllllllllllllllll}\n",
       " STATE & SERVICE.AREA.POPULATION & UNDUPLICATED.POPULATION & STATE.POPULATION & CENTRAL.LIBRARIES & BRANCH.LIBRARIES & BOOKMOBILES & MLS.LIBRARIAN.STAFF & LIBRARIAN.STAFF & OTHER.STAFF & ... & PROGRAM.AUDIENCE & KIDS.PROGRAM.AUDIENCE & YA.PROGRAM.AUDIENCE & COMPUTERS & COMPUTER.USES & WIFI.SESSIONS & START.DATE & END.DATE & YEAR & BEA.REGION\\\\\n",
       "\\hline\n",
       "\t AK       &   654479 &   647583 &   737625 &  86      &  16      &  1       &   58.86  &  118.31  &  193.09  & ...      &  254172  &  177102  &  21401   &  1069    &   749206 &   730747 & 14-Jan   & 15-Jun   & 2016     & 8       \\\\\n",
       "\t AL       &  4833722 &  4833722 &  4833722 & 222      &  74      & 16       &  328.08  &  730.76  &  988.72  & ...      & 1121601  &  723637  &  93665   &  5556    &  4277108 &  3703127 & 14-Oct   & 15-Sep   & 2016     & 5       \\\\\n",
       "\t AR       &  2833849 &  2643928 &  2915918 &  54      & 179      &  2       &  145.11  &  282.61  &  723.28  & ...      & 1050483  &  738691  & 103945   &  2718    &  1858903 &  1150709 & 15-Jan   & 15-Dec   & 2016     & 5       \\\\\n",
       "\t AS       &    60863 &    60324 &    60863 &   1      &   1      &  0       &    1.00  &    7.00  &    3.00  & ...      &    6846  &    6684  &     12   &    20    &     7118 &     2420 & 14-Oct   & 15-Sep   & 2016     & 9       \\\\\n",
       "\t AZ       & 10652448 &  6758251 &  6758251 &  85      & 136      & 11       &  473.98  &  560.61  & 1492.25  & ...      & 1526227  & 1064657  & 100069   &  7630    &  7150328 &  5340816 & 14-Jul   & 15-Jun   & 2016     & 6       \\\\\n",
       "\t CA       & 38697702 & 38697702 & 38714725 & 166      & 949      & 51       & 3080.26  & 3268.83  & 8510.39  & ...      & 9428715  & 7051832  & 553731   & 22251    & 32275277 & 15496024 & 14-Jul   & 15-Jun   & 2016     & 8       \\\\\n",
       "\\end{tabular}\n"
      ],
      "text/markdown": [
       "\n",
       "STATE | SERVICE.AREA.POPULATION | UNDUPLICATED.POPULATION | STATE.POPULATION | CENTRAL.LIBRARIES | BRANCH.LIBRARIES | BOOKMOBILES | MLS.LIBRARIAN.STAFF | LIBRARIAN.STAFF | OTHER.STAFF | ... | PROGRAM.AUDIENCE | KIDS.PROGRAM.AUDIENCE | YA.PROGRAM.AUDIENCE | COMPUTERS | COMPUTER.USES | WIFI.SESSIONS | START.DATE | END.DATE | YEAR | BEA.REGION | \n",
       "|---|---|---|---|---|---|\n",
       "| AK       |   654479 |   647583 |   737625 |  86      |  16      |  1       |   58.86  |  118.31  |  193.09  | ...      |  254172  |  177102  |  21401   |  1069    |   749206 |   730747 | 14-Jan   | 15-Jun   | 2016     | 8        | \n",
       "| AL       |  4833722 |  4833722 |  4833722 | 222      |  74      | 16       |  328.08  |  730.76  |  988.72  | ...      | 1121601  |  723637  |  93665   |  5556    |  4277108 |  3703127 | 14-Oct   | 15-Sep   | 2016     | 5        | \n",
       "| AR       |  2833849 |  2643928 |  2915918 |  54      | 179      |  2       |  145.11  |  282.61  |  723.28  | ...      | 1050483  |  738691  | 103945   |  2718    |  1858903 |  1150709 | 15-Jan   | 15-Dec   | 2016     | 5        | \n",
       "| AS       |    60863 |    60324 |    60863 |   1      |   1      |  0       |    1.00  |    7.00  |    3.00  | ...      |    6846  |    6684  |     12   |    20    |     7118 |     2420 | 14-Oct   | 15-Sep   | 2016     | 9        | \n",
       "| AZ       | 10652448 |  6758251 |  6758251 |  85      | 136      | 11       |  473.98  |  560.61  | 1492.25  | ...      | 1526227  | 1064657  | 100069   |  7630    |  7150328 |  5340816 | 14-Jul   | 15-Jun   | 2016     | 6        | \n",
       "| CA       | 38697702 | 38697702 | 38714725 | 166      | 949      | 51       | 3080.26  | 3268.83  | 8510.39  | ...      | 9428715  | 7051832  | 553731   | 22251    | 32275277 | 15496024 | 14-Jul   | 15-Jun   | 2016     | 8        | \n",
       "\n",
       "\n"
      ],
      "text/plain": [
       "  STATE SERVICE.AREA.POPULATION UNDUPLICATED.POPULATION STATE.POPULATION\n",
       "1 AK      654479                  647583                  737625        \n",
       "2 AL     4833722                 4833722                 4833722        \n",
       "3 AR     2833849                 2643928                 2915918        \n",
       "4 AS       60863                   60324                   60863        \n",
       "5 AZ    10652448                 6758251                 6758251        \n",
       "6 CA    38697702                38697702                38714725        \n",
       "  CENTRAL.LIBRARIES BRANCH.LIBRARIES BOOKMOBILES MLS.LIBRARIAN.STAFF\n",
       "1  86                16               1            58.86            \n",
       "2 222                74              16           328.08            \n",
       "3  54               179               2           145.11            \n",
       "4   1                 1               0             1.00            \n",
       "5  85               136              11           473.98            \n",
       "6 166               949              51          3080.26            \n",
       "  LIBRARIAN.STAFF OTHER.STAFF ... PROGRAM.AUDIENCE KIDS.PROGRAM.AUDIENCE\n",
       "1  118.31          193.09     ...  254172           177102              \n",
       "2  730.76          988.72     ... 1121601           723637              \n",
       "3  282.61          723.28     ... 1050483           738691              \n",
       "4    7.00            3.00     ...    6846             6684              \n",
       "5  560.61         1492.25     ... 1526227          1064657              \n",
       "6 3268.83         8510.39     ... 9428715          7051832              \n",
       "  YA.PROGRAM.AUDIENCE COMPUTERS COMPUTER.USES WIFI.SESSIONS START.DATE END.DATE\n",
       "1  21401               1069       749206        730747      14-Jan     15-Jun  \n",
       "2  93665               5556      4277108       3703127      14-Oct     15-Sep  \n",
       "3 103945               2718      1858903       1150709      15-Jan     15-Dec  \n",
       "4     12                 20         7118          2420      14-Oct     15-Sep  \n",
       "5 100069               7630      7150328       5340816      14-Jul     15-Jun  \n",
       "6 553731              22251     32275277      15496024      14-Jul     15-Jun  \n",
       "  YEAR BEA.REGION\n",
       "1 2016 8         \n",
       "2 2016 5         \n",
       "3 2016 5         \n",
       "4 2016 9         \n",
       "5 2016 6         \n",
       "6 2016 8         "
      ]
     },
     "metadata": {},
     "output_type": "display_data"
    },
    {
     "data": {
      "text/html": [
       "<table>\n",
       "<thead><tr><th></th><th scope=col>STATE</th><th scope=col>SERVICE.AREA.POPULATION</th><th scope=col>UNDUPLICATED.POPULATION</th><th scope=col>STATE.POPULATION</th><th scope=col>CENTRAL.LIBRARIES</th><th scope=col>BRANCH.LIBRARIES</th><th scope=col>BOOKMOBILES</th><th scope=col>MLS.LIBRARIAN.STAFF</th><th scope=col>LIBRARIAN.STAFF</th><th scope=col>OTHER.STAFF</th><th scope=col>...</th><th scope=col>PROGRAM.AUDIENCE</th><th scope=col>KIDS.PROGRAM.AUDIENCE</th><th scope=col>YA.PROGRAM.AUDIENCE</th><th scope=col>COMPUTERS</th><th scope=col>COMPUTER.USES</th><th scope=col>WIFI.SESSIONS</th><th scope=col>START.DATE</th><th scope=col>END.DATE</th><th scope=col>YEAR</th><th scope=col>BEA.REGION</th></tr></thead>\n",
       "<tbody>\n",
       "\t<tr><th scope=row>48</th><td>VA      </td><td>8164556 </td><td>8164556 </td><td>8382993 </td><td> 83     </td><td>274     </td><td>22      </td><td>897.74  </td><td> 996.93 </td><td>2747.43 </td><td>...     </td><td>2562861 </td><td>1727384 </td><td>139964  </td><td>7084    </td><td>6963547 </td><td> 7398797</td><td>14-Jul  </td><td>15-Jun  </td><td>2016    </td><td>5       </td></tr>\n",
       "\t<tr><th scope=row>49</th><td>VT      </td><td> 686918 </td><td> 605296 </td><td> 626630 </td><td>183     </td><td>  3     </td><td> 4      </td><td> 67.21  </td><td> 217.73 </td><td> 137.92 </td><td>...     </td><td> 399967 </td><td> 269004 </td><td> 18650  </td><td>1110    </td><td> 630669 </td><td>  614020</td><td>14-Jan  </td><td>15-Dec  </td><td>2016    </td><td>1       </td></tr>\n",
       "\t<tr><th scope=row>50</th><td>WA      </td><td>6955368 </td><td>6955368 </td><td>7061410 </td><td> 54     </td><td>291     </td><td>26      </td><td>798.19  </td><td> 838.51 </td><td>3044.60 </td><td>...     </td><td>2327178 </td><td>1677860 </td><td>213366  </td><td>6374    </td><td>8951109 </td><td>13992213</td><td>15-Jan  </td><td>15-Dec  </td><td>2016    </td><td>8       </td></tr>\n",
       "\t<tr><th scope=row>51</th><td>WI      </td><td>5749006 </td><td>5749006 </td><td>5753324 </td><td>378     </td><td> 82     </td><td> 5      </td><td>711.86  </td><td>1148.11 </td><td>1903.64 </td><td>...     </td><td>2355286 </td><td>1769739 </td><td>131941  </td><td>6327    </td><td>5467325 </td><td> 4068806</td><td>15-Jan  </td><td>15-Dec  </td><td>2016    </td><td>3       </td></tr>\n",
       "\t<tr><th scope=row>52</th><td>WV      </td><td>1852994 </td><td>1852994 </td><td>1852994 </td><td> 97     </td><td> 76     </td><td> 8      </td><td> 95.08  </td><td> 366.49 </td><td> 296.53 </td><td>...     </td><td> 456933 </td><td> 339141 </td><td> 35151  </td><td>1469    </td><td>1009608 </td><td>  110036</td><td>14-Jul  </td><td>15-Jun  </td><td>2016    </td><td>5       </td></tr>\n",
       "\t<tr><th scope=row>53</th><td>WY      </td><td> 584153 </td><td> 584153 </td><td> 584153 </td><td> 23     </td><td> 52     </td><td> 2      </td><td> 61.66  </td><td> 172.34 </td><td> 284.14 </td><td>...     </td><td> 403130 </td><td> 307797 </td><td> 34067  </td><td> 881    </td><td> 851981 </td><td>  172514</td><td>14-Jul  </td><td>15-Jun  </td><td>2016    </td><td>7       </td></tr>\n",
       "</tbody>\n",
       "</table>\n"
      ],
      "text/latex": [
       "\\begin{tabular}{r|lllllllllllllllllllllllllllllllllllllllllllllllllllllllllllllll}\n",
       "  & STATE & SERVICE.AREA.POPULATION & UNDUPLICATED.POPULATION & STATE.POPULATION & CENTRAL.LIBRARIES & BRANCH.LIBRARIES & BOOKMOBILES & MLS.LIBRARIAN.STAFF & LIBRARIAN.STAFF & OTHER.STAFF & ... & PROGRAM.AUDIENCE & KIDS.PROGRAM.AUDIENCE & YA.PROGRAM.AUDIENCE & COMPUTERS & COMPUTER.USES & WIFI.SESSIONS & START.DATE & END.DATE & YEAR & BEA.REGION\\\\\n",
       "\\hline\n",
       "\t48 & VA       & 8164556  & 8164556  & 8382993  &  83      & 274      & 22       & 897.74   &  996.93  & 2747.43  & ...      & 2562861  & 1727384  & 139964   & 7084     & 6963547  &  7398797 & 14-Jul   & 15-Jun   & 2016     & 5       \\\\\n",
       "\t49 & VT       &  686918  &  605296  &  626630  & 183      &   3      &  4       &  67.21   &  217.73  &  137.92  & ...      &  399967  &  269004  &  18650   & 1110     &  630669  &   614020 & 14-Jan   & 15-Dec   & 2016     & 1       \\\\\n",
       "\t50 & WA       & 6955368  & 6955368  & 7061410  &  54      & 291      & 26       & 798.19   &  838.51  & 3044.60  & ...      & 2327178  & 1677860  & 213366   & 6374     & 8951109  & 13992213 & 15-Jan   & 15-Dec   & 2016     & 8       \\\\\n",
       "\t51 & WI       & 5749006  & 5749006  & 5753324  & 378      &  82      &  5       & 711.86   & 1148.11  & 1903.64  & ...      & 2355286  & 1769739  & 131941   & 6327     & 5467325  &  4068806 & 15-Jan   & 15-Dec   & 2016     & 3       \\\\\n",
       "\t52 & WV       & 1852994  & 1852994  & 1852994  &  97      &  76      &  8       &  95.08   &  366.49  &  296.53  & ...      &  456933  &  339141  &  35151   & 1469     & 1009608  &   110036 & 14-Jul   & 15-Jun   & 2016     & 5       \\\\\n",
       "\t53 & WY       &  584153  &  584153  &  584153  &  23      &  52      &  2       &  61.66   &  172.34  &  284.14  & ...      &  403130  &  307797  &  34067   &  881     &  851981  &   172514 & 14-Jul   & 15-Jun   & 2016     & 7       \\\\\n",
       "\\end{tabular}\n"
      ],
      "text/markdown": [
       "\n",
       "| <!--/--> | STATE | SERVICE.AREA.POPULATION | UNDUPLICATED.POPULATION | STATE.POPULATION | CENTRAL.LIBRARIES | BRANCH.LIBRARIES | BOOKMOBILES | MLS.LIBRARIAN.STAFF | LIBRARIAN.STAFF | OTHER.STAFF | ... | PROGRAM.AUDIENCE | KIDS.PROGRAM.AUDIENCE | YA.PROGRAM.AUDIENCE | COMPUTERS | COMPUTER.USES | WIFI.SESSIONS | START.DATE | END.DATE | YEAR | BEA.REGION | \n",
       "|---|---|---|---|---|---|\n",
       "| 48 | VA       | 8164556  | 8164556  | 8382993  |  83      | 274      | 22       | 897.74   |  996.93  | 2747.43  | ...      | 2562861  | 1727384  | 139964   | 7084     | 6963547  |  7398797 | 14-Jul   | 15-Jun   | 2016     | 5        | \n",
       "| 49 | VT       |  686918  |  605296  |  626630  | 183      |   3      |  4       |  67.21   |  217.73  |  137.92  | ...      |  399967  |  269004  |  18650   | 1110     |  630669  |   614020 | 14-Jan   | 15-Dec   | 2016     | 1        | \n",
       "| 50 | WA       | 6955368  | 6955368  | 7061410  |  54      | 291      | 26       | 798.19   |  838.51  | 3044.60  | ...      | 2327178  | 1677860  | 213366   | 6374     | 8951109  | 13992213 | 15-Jan   | 15-Dec   | 2016     | 8        | \n",
       "| 51 | WI       | 5749006  | 5749006  | 5753324  | 378      |  82      |  5       | 711.86   | 1148.11  | 1903.64  | ...      | 2355286  | 1769739  | 131941   | 6327     | 5467325  |  4068806 | 15-Jan   | 15-Dec   | 2016     | 3        | \n",
       "| 52 | WV       | 1852994  | 1852994  | 1852994  |  97      |  76      |  8       |  95.08   |  366.49  |  296.53  | ...      |  456933  |  339141  |  35151   | 1469     | 1009608  |   110036 | 14-Jul   | 15-Jun   | 2016     | 5        | \n",
       "| 53 | WY       |  584153  |  584153  |  584153  |  23      |  52      |  2       |  61.66   |  172.34  |  284.14  | ...      |  403130  |  307797  |  34067   |  881     |  851981  |   172514 | 14-Jul   | 15-Jun   | 2016     | 7        | \n",
       "\n",
       "\n"
      ],
      "text/plain": [
       "   STATE SERVICE.AREA.POPULATION UNDUPLICATED.POPULATION STATE.POPULATION\n",
       "48 VA    8164556                 8164556                 8382993         \n",
       "49 VT     686918                  605296                  626630         \n",
       "50 WA    6955368                 6955368                 7061410         \n",
       "51 WI    5749006                 5749006                 5753324         \n",
       "52 WV    1852994                 1852994                 1852994         \n",
       "53 WY     584153                  584153                  584153         \n",
       "   CENTRAL.LIBRARIES BRANCH.LIBRARIES BOOKMOBILES MLS.LIBRARIAN.STAFF\n",
       "48  83               274              22          897.74             \n",
       "49 183                 3               4           67.21             \n",
       "50  54               291              26          798.19             \n",
       "51 378                82               5          711.86             \n",
       "52  97                76               8           95.08             \n",
       "53  23                52               2           61.66             \n",
       "   LIBRARIAN.STAFF OTHER.STAFF ... PROGRAM.AUDIENCE KIDS.PROGRAM.AUDIENCE\n",
       "48  996.93         2747.43     ... 2562861          1727384              \n",
       "49  217.73          137.92     ...  399967           269004              \n",
       "50  838.51         3044.60     ... 2327178          1677860              \n",
       "51 1148.11         1903.64     ... 2355286          1769739              \n",
       "52  366.49          296.53     ...  456933           339141              \n",
       "53  172.34          284.14     ...  403130           307797              \n",
       "   YA.PROGRAM.AUDIENCE COMPUTERS COMPUTER.USES WIFI.SESSIONS START.DATE\n",
       "48 139964              7084      6963547        7398797      14-Jul    \n",
       "49  18650              1110       630669         614020      14-Jan    \n",
       "50 213366              6374      8951109       13992213      15-Jan    \n",
       "51 131941              6327      5467325        4068806      15-Jan    \n",
       "52  35151              1469      1009608         110036      14-Jul    \n",
       "53  34067               881       851981         172514      14-Jul    \n",
       "   END.DATE YEAR BEA.REGION\n",
       "48 15-Jun   2016 5         \n",
       "49 15-Dec   2016 1         \n",
       "50 15-Dec   2016 8         \n",
       "51 15-Dec   2016 3         \n",
       "52 15-Jun   2016 5         \n",
       "53 15-Jun   2016 7         "
      ]
     },
     "metadata": {},
     "output_type": "display_data"
    }
   ],
   "source": [
    "head(recent)\n",
    "tail(recent)"
   ]
  },
  {
   "cell_type": "code",
   "execution_count": 14,
   "metadata": {},
   "outputs": [],
   "source": [
    "smrecent = recent %>%\n",
    "select(\"USERS\", \"VISITS\", \"SERVICE.AREA.POPULATION\", \"STATE\") %>%\n",
    "mutate(attendance = (USERS + VISITS), visits_per_person = attendance/SERVICE.AREA.POPULATION)\n"
   ]
  },
  {
   "cell_type": "code",
   "execution_count": 15,
   "metadata": {},
   "outputs": [
    {
     "data": {
      "text/html": [
       "<table>\n",
       "<thead><tr><th scope=col>USERS</th><th scope=col>VISITS</th><th scope=col>SERVICE.AREA.POPULATION</th><th scope=col>STATE</th><th scope=col>attendance</th><th scope=col>visits_per_person</th></tr></thead>\n",
       "<tbody>\n",
       "\t<tr><td>  350471 </td><td>  3120386</td><td>  654479 </td><td>AK       </td><td>  3470857</td><td>5.303237 </td></tr>\n",
       "\t<tr><td> 2680887 </td><td> 16529493</td><td> 4833722 </td><td>AL       </td><td> 19210380</td><td>3.974242 </td></tr>\n",
       "\t<tr><td> 1628139 </td><td> 10383499</td><td> 2833849 </td><td>AR       </td><td> 12011638</td><td>4.238630 </td></tr>\n",
       "\t<tr><td>   13633 </td><td>    63563</td><td>   60863 </td><td>AS       </td><td>    77196</td><td>1.268357 </td></tr>\n",
       "\t<tr><td> 3165690 </td><td> 26425068</td><td>10652448 </td><td>AZ       </td><td> 29590758</td><td>2.777836 </td></tr>\n",
       "\t<tr><td>21917146 </td><td>162526811</td><td>38697702 </td><td>CA       </td><td>184443957</td><td>4.766277 </td></tr>\n",
       "</tbody>\n",
       "</table>\n"
      ],
      "text/latex": [
       "\\begin{tabular}{r|llllll}\n",
       " USERS & VISITS & SERVICE.AREA.POPULATION & STATE & attendance & visits\\_per\\_person\\\\\n",
       "\\hline\n",
       "\t   350471  &   3120386 &   654479  & AK        &   3470857 & 5.303237 \\\\\n",
       "\t  2680887  &  16529493 &  4833722  & AL        &  19210380 & 3.974242 \\\\\n",
       "\t  1628139  &  10383499 &  2833849  & AR        &  12011638 & 4.238630 \\\\\n",
       "\t    13633  &     63563 &    60863  & AS        &     77196 & 1.268357 \\\\\n",
       "\t  3165690  &  26425068 & 10652448  & AZ        &  29590758 & 2.777836 \\\\\n",
       "\t 21917146  & 162526811 & 38697702  & CA        & 184443957 & 4.766277 \\\\\n",
       "\\end{tabular}\n"
      ],
      "text/markdown": [
       "\n",
       "USERS | VISITS | SERVICE.AREA.POPULATION | STATE | attendance | visits_per_person | \n",
       "|---|---|---|---|---|---|\n",
       "|   350471  |   3120386 |   654479  | AK        |   3470857 | 5.303237  | \n",
       "|  2680887  |  16529493 |  4833722  | AL        |  19210380 | 3.974242  | \n",
       "|  1628139  |  10383499 |  2833849  | AR        |  12011638 | 4.238630  | \n",
       "|    13633  |     63563 |    60863  | AS        |     77196 | 1.268357  | \n",
       "|  3165690  |  26425068 | 10652448  | AZ        |  29590758 | 2.777836  | \n",
       "| 21917146  | 162526811 | 38697702  | CA        | 184443957 | 4.766277  | \n",
       "\n",
       "\n"
      ],
      "text/plain": [
       "  USERS    VISITS    SERVICE.AREA.POPULATION STATE attendance visits_per_person\n",
       "1   350471   3120386   654479                AK      3470857  5.303237         \n",
       "2  2680887  16529493  4833722                AL     19210380  3.974242         \n",
       "3  1628139  10383499  2833849                AR     12011638  4.238630         \n",
       "4    13633     63563    60863                AS        77196  1.268357         \n",
       "5  3165690  26425068 10652448                AZ     29590758  2.777836         \n",
       "6 21917146 162526811 38697702                CA    184443957  4.766277         "
      ]
     },
     "metadata": {},
     "output_type": "display_data"
    }
   ],
   "source": [
    "head(smrecent)"
   ]
  },
  {
   "cell_type": "code",
   "execution_count": 19,
   "metadata": {},
   "outputs": [
    {
     "data": {},
     "metadata": {},
     "output_type": "display_data"
    },
    {
     "data": {
      "image/png": "[encoded data removed]",
      "text/plain": [
       "plot without title"
      ]
     },
     "metadata": {},
     "output_type": "display_data"
    }
   ],
   "source": [
    "ggplot(smrecent, aes(x = SERVICE.AREA.POPULATION, y=attendance)) + geom_point() + \n",
    "geom_smooth(method=lm, se=FALSE) + scale_y_continuous(labels=comma) + scale_x_continuous(labels=comma) + \n",
    "geom_text(data=smrecent, aes(label=STATE), size=3.25, check_overlap = TRUE) + labs(x=\"People in Service Area\", y=\"Attendance\",\n",
    "                                                                                  title=\"People Visitng the Library\", subtitle=\"The number of people who went to the library compared to the number of people the library serves \n",
    "in the state\",\n",
    "                                                                                    caption=\"Source: Institute of Library and Museum Services, Graphic by Nikoel Hytrek\")"
   ]
  },
  {
   "cell_type": "code",
   "execution_count": 20,
   "metadata": {},
   "outputs": [],
   "source": [
    "ggsave(\"attend.pdf\", width=7, height=7)"
   ]
  },
  {
   "cell_type": "code",
   "execution_count": 21,
   "metadata": {},
   "outputs": [],
   "source": [
    "comp = recent %>%\n",
    "select(\"USERS\", \"VISITS\", \"TOTAL.REVENUE\", \"STATE\") %>%\n",
    "mutate(attendance = (USERS + VISITS),)"
   ]
  },
  {
   "cell_type": "code",
   "execution_count": 25,
   "metadata": {
    "scrolled": false
   },
   "outputs": [
    {
     "data": {},
     "metadata": {},
     "output_type": "display_data"
    },
    {
     "data": {
      "image/png": "[encoded data removed]",
      "text/plain": [
       "plot without title"
      ]
     },
     "metadata": {},
     "output_type": "display_data"
    }
   ],
   "source": [
    "ggplot(comp, aes(x=TOTAL.REVENUE, y=attendance)) + geom_point() + \n",
    "geom_smooth(method=lm, se=FALSE) + scale_y_continuous(labels=comma) + scale_x_continuous(labels=comma) + \n",
    "geom_text(data=comp, aes(label=STATE), size=3.25, check_overlap = TRUE) + labs(x=\"Income\", y=\"Attendance\", title=\"People Visiting the Library cont.\",\n",
    "                                                                              subtitle=\"The amount of people who visited the library compared to the amount of money the library got\",\n",
    "                                                                              caption=\"Source: Institute of Library and Museum Services, Graphic by Nikoel Hytrek\")"
   ]
  },
  {
   "cell_type": "code",
   "execution_count": 26,
   "metadata": {},
   "outputs": [],
   "source": [
    "ggsave(\"key.pdf\", width=7, height=7)"
   ]
  },
  {
   "cell_type": "code",
   "execution_count": 20,
   "metadata": {},
   "outputs": [
    {
     "data": {
      "text/html": [
       "<table>\n",
       "<thead><tr><th scope=col>PRINT.MATERIALS</th><th scope=col>EBOOKS</th><th scope=col>AUDIO.MATERIALS</th><th scope=col>VIDEO.MATERIALS</th><th scope=col>TOTAL.PROGRAMS</th><th scope=col>COMPUTER.USES</th><th scope=col>USERS</th><th scope=col>VISITS</th><th scope=col>STATE</th><th scope=col>attendance</th></tr></thead>\n",
       "<tbody>\n",
       "\t<tr><td> 2395272 </td><td> 502695  </td><td> 129476  </td><td> 282054  </td><td> 12987   </td><td>  749206 </td><td>  350471 </td><td>  3120386</td><td>AK       </td><td>  3470857</td></tr>\n",
       "\t<tr><td> 9330807 </td><td>3414634  </td><td> 430265  </td><td> 629212  </td><td> 44526   </td><td> 4277108 </td><td> 2680887 </td><td> 16529493</td><td>AL       </td><td> 19210380</td></tr>\n",
       "\t<tr><td> 6371116 </td><td> 591038  </td><td> 242426  </td><td> 459248  </td><td> 38333   </td><td> 1858903 </td><td> 1628139 </td><td> 10383499</td><td>AR       </td><td> 12011638</td></tr>\n",
       "\t<tr><td>   41938 </td><td>   1217  </td><td>    895  </td><td>    290  </td><td>   384   </td><td>    7118 </td><td>   13633 </td><td>    63563</td><td>AS       </td><td>    77196</td></tr>\n",
       "\t<tr><td> 8195813 </td><td>1698298  </td><td> 632268  </td><td>1047713  </td><td> 72501   </td><td> 7150328 </td><td> 3165690 </td><td> 26425068</td><td>AZ       </td><td> 29590758</td></tr>\n",
       "\t<tr><td>63675919 </td><td>5598601  </td><td>3469511  </td><td>5277598  </td><td>362131   </td><td>32275277 </td><td>21917146 </td><td>162526811</td><td>CA       </td><td>184443957</td></tr>\n",
       "</tbody>\n",
       "</table>\n"
      ],
      "text/latex": [
       "\\begin{tabular}{r|llllllllll}\n",
       " PRINT.MATERIALS & EBOOKS & AUDIO.MATERIALS & VIDEO.MATERIALS & TOTAL.PROGRAMS & COMPUTER.USES & USERS & VISITS & STATE & attendance\\\\\n",
       "\\hline\n",
       "\t  2395272  &  502695   &  129476   &  282054   &  12987    &   749206  &   350471  &   3120386 & AK        &   3470857\\\\\n",
       "\t  9330807  & 3414634   &  430265   &  629212   &  44526    &  4277108  &  2680887  &  16529493 & AL        &  19210380\\\\\n",
       "\t  6371116  &  591038   &  242426   &  459248   &  38333    &  1858903  &  1628139  &  10383499 & AR        &  12011638\\\\\n",
       "\t    41938  &    1217   &     895   &     290   &    384    &     7118  &    13633  &     63563 & AS        &     77196\\\\\n",
       "\t  8195813  & 1698298   &  632268   & 1047713   &  72501    &  7150328  &  3165690  &  26425068 & AZ        &  29590758\\\\\n",
       "\t 63675919  & 5598601   & 3469511   & 5277598   & 362131    & 32275277  & 21917146  & 162526811 & CA        & 184443957\\\\\n",
       "\\end{tabular}\n"
      ],
      "text/markdown": [
       "\n",
       "PRINT.MATERIALS | EBOOKS | AUDIO.MATERIALS | VIDEO.MATERIALS | TOTAL.PROGRAMS | COMPUTER.USES | USERS | VISITS | STATE | attendance | \n",
       "|---|---|---|---|---|---|\n",
       "|  2395272  |  502695   |  129476   |  282054   |  12987    |   749206  |   350471  |   3120386 | AK        |   3470857 | \n",
       "|  9330807  | 3414634   |  430265   |  629212   |  44526    |  4277108  |  2680887  |  16529493 | AL        |  19210380 | \n",
       "|  6371116  |  591038   |  242426   |  459248   |  38333    |  1858903  |  1628139  |  10383499 | AR        |  12011638 | \n",
       "|    41938  |    1217   |     895   |     290   |    384    |     7118  |    13633  |     63563 | AS        |     77196 | \n",
       "|  8195813  | 1698298   |  632268   | 1047713   |  72501    |  7150328  |  3165690  |  26425068 | AZ        |  29590758 | \n",
       "| 63675919  | 5598601   | 3469511   | 5277598   | 362131    | 32275277  | 21917146  | 162526811 | CA        | 184443957 | \n",
       "\n",
       "\n"
      ],
      "text/plain": [
       "  PRINT.MATERIALS EBOOKS  AUDIO.MATERIALS VIDEO.MATERIALS TOTAL.PROGRAMS\n",
       "1  2395272         502695  129476          282054          12987        \n",
       "2  9330807        3414634  430265          629212          44526        \n",
       "3  6371116         591038  242426          459248          38333        \n",
       "4    41938           1217     895             290            384        \n",
       "5  8195813        1698298  632268         1047713          72501        \n",
       "6 63675919        5598601 3469511         5277598         362131        \n",
       "  COMPUTER.USES USERS    VISITS    STATE attendance\n",
       "1   749206        350471   3120386 AK      3470857 \n",
       "2  4277108       2680887  16529493 AL     19210380 \n",
       "3  1858903       1628139  10383499 AR     12011638 \n",
       "4     7118         13633     63563 AS        77196 \n",
       "5  7150328       3165690  26425068 AZ     29590758 \n",
       "6 32275277      21917146 162526811 CA    184443957 "
      ]
     },
     "metadata": {},
     "output_type": "display_data"
    }
   ],
   "source": [
    "other = recent %>%\n",
    "select(\"PRINT.MATERIALS\", \"EBOOKS\", \"AUDIO.MATERIALS\", \"VIDEO.MATERIALS\", \"TOTAL.PROGRAMS\", \"COMPUTER.USES\", \"USERS\", \n",
    "       \"VISITS\", \"STATE\") %>%\n",
    "mutate(attendance = (USERS + VISITS)) %>%\n",
    "group_by(STATE)\n",
    "\n",
    "head(other)"
   ]
  },
  {
   "cell_type": "code",
   "execution_count": 21,
   "metadata": {
    "scrolled": true
   },
   "outputs": [
    {
     "data": {
      "text/html": [
       "<table>\n",
       "<thead><tr><th scope=col>STATE</th><th scope=col>print</th><th scope=col>attendance</th></tr></thead>\n",
       "<tbody>\n",
       "\t<tr><td>AK       </td><td> 2395272 </td><td>  3470857</td></tr>\n",
       "\t<tr><td>AL       </td><td> 9330807 </td><td> 19210380</td></tr>\n",
       "\t<tr><td>AR       </td><td> 6371116 </td><td> 12011638</td></tr>\n",
       "\t<tr><td>AS       </td><td>   41938 </td><td>    77196</td></tr>\n",
       "\t<tr><td>AZ       </td><td> 8195813 </td><td> 29590758</td></tr>\n",
       "\t<tr><td>CA       </td><td>63675919 </td><td>184443957</td></tr>\n",
       "</tbody>\n",
       "</table>\n"
      ],
      "text/latex": [
       "\\begin{tabular}{r|lll}\n",
       " STATE & print & attendance\\\\\n",
       "\\hline\n",
       "\t AK        &  2395272  &   3470857\\\\\n",
       "\t AL        &  9330807  &  19210380\\\\\n",
       "\t AR        &  6371116  &  12011638\\\\\n",
       "\t AS        &    41938  &     77196\\\\\n",
       "\t AZ        &  8195813  &  29590758\\\\\n",
       "\t CA        & 63675919  & 184443957\\\\\n",
       "\\end{tabular}\n"
      ],
      "text/markdown": [
       "\n",
       "STATE | print | attendance | \n",
       "|---|---|---|---|---|---|\n",
       "| AK        |  2395272  |   3470857 | \n",
       "| AL        |  9330807  |  19210380 | \n",
       "| AR        |  6371116  |  12011638 | \n",
       "| AS        |    41938  |     77196 | \n",
       "| AZ        |  8195813  |  29590758 | \n",
       "| CA        | 63675919  | 184443957 | \n",
       "\n",
       "\n"
      ],
      "text/plain": [
       "  STATE print    attendance\n",
       "1 AK     2395272   3470857 \n",
       "2 AL     9330807  19210380 \n",
       "3 AR     6371116  12011638 \n",
       "4 AS       41938     77196 \n",
       "5 AZ     8195813  29590758 \n",
       "6 CA    63675919 184443957 "
      ]
     },
     "metadata": {},
     "output_type": "display_data"
    }
   ],
   "source": [
    "printother = other %>%\n",
    "summarize(print = sum(PRINT.MATERIALS), \n",
    "          attendance = sum(attendance))\n",
    "\n",
    "head(printother)\n",
    "         \n"
   ]
  },
  {
   "cell_type": "code",
   "execution_count": 22,
   "metadata": {},
   "outputs": [
    {
     "data": {},
     "metadata": {},
     "output_type": "display_data"
    },
    {
     "data": {
      "image/png": "[encoded data removed]",
      "text/plain": [
       "plot without title"
      ]
     },
     "metadata": {},
     "output_type": "display_data"
    }
   ],
   "source": [
    "ggplot(printother, aes(x = attendance, y = print)) + geom_point() + geom_smooth(method=lm, se=FALSE) + \n",
    "scale_y_continuous(labels=comma) + scale_x_continuous(labels=comma) + geom_text(data=printother, aes(label=STATE), size=3.25)"
   ]
  },
  {
   "cell_type": "code",
   "execution_count": 23,
   "metadata": {},
   "outputs": [],
   "source": [
    "ggsave(\"print_attend.pdf\", width=7, height=7)"
   ]
  },
  {
   "cell_type": "code",
   "execution_count": 24,
   "metadata": {},
   "outputs": [
    {
     "data": {
      "text/html": [
       "<table>\n",
       "<thead><tr><th scope=col>STATE</th><th scope=col>ebooks</th><th scope=col>attendance</th></tr></thead>\n",
       "<tbody>\n",
       "\t<tr><td>AK       </td><td> 502695  </td><td>  3470857</td></tr>\n",
       "\t<tr><td>AL       </td><td>3414634  </td><td> 19210380</td></tr>\n",
       "\t<tr><td>AR       </td><td> 591038  </td><td> 12011638</td></tr>\n",
       "\t<tr><td>AS       </td><td>   1217  </td><td>    77196</td></tr>\n",
       "\t<tr><td>AZ       </td><td>1698298  </td><td> 29590758</td></tr>\n",
       "\t<tr><td>CA       </td><td>5598601  </td><td>184443957</td></tr>\n",
       "</tbody>\n",
       "</table>\n"
      ],
      "text/latex": [
       "\\begin{tabular}{r|lll}\n",
       " STATE & ebooks & attendance\\\\\n",
       "\\hline\n",
       "\t AK        &  502695   &   3470857\\\\\n",
       "\t AL        & 3414634   &  19210380\\\\\n",
       "\t AR        &  591038   &  12011638\\\\\n",
       "\t AS        &    1217   &     77196\\\\\n",
       "\t AZ        & 1698298   &  29590758\\\\\n",
       "\t CA        & 5598601   & 184443957\\\\\n",
       "\\end{tabular}\n"
      ],
      "text/markdown": [
       "\n",
       "STATE | ebooks | attendance | \n",
       "|---|---|---|---|---|---|\n",
       "| AK        |  502695   |   3470857 | \n",
       "| AL        | 3414634   |  19210380 | \n",
       "| AR        |  591038   |  12011638 | \n",
       "| AS        |    1217   |     77196 | \n",
       "| AZ        | 1698298   |  29590758 | \n",
       "| CA        | 5598601   | 184443957 | \n",
       "\n",
       "\n"
      ],
      "text/plain": [
       "  STATE ebooks  attendance\n",
       "1 AK     502695   3470857 \n",
       "2 AL    3414634  19210380 \n",
       "3 AR     591038  12011638 \n",
       "4 AS       1217     77196 \n",
       "5 AZ    1698298  29590758 \n",
       "6 CA    5598601 184443957 "
      ]
     },
     "metadata": {},
     "output_type": "display_data"
    }
   ],
   "source": [
    "eother = other %>%\n",
    "summarize(ebooks = sum(EBOOKS),\n",
    "          attendance = sum(attendance))\n",
    "head(eother)"
   ]
  },
  {
   "cell_type": "code",
   "execution_count": 25,
   "metadata": {},
   "outputs": [
    {
     "data": {},
     "metadata": {},
     "output_type": "display_data"
    },
    {
     "data": {
      "image/png": "[encoded data removed]",
      "text/plain": [
       "plot without title"
      ]
     },
     "metadata": {},
     "output_type": "display_data"
    }
   ],
   "source": [
    "ggplot(eother, aes(x = attendance, y = ebooks)) + geom_point() + geom_smooth(method=lm, se=FALSE) + \n",
    "scale_y_continuous(labels=comma) + scale_x_continuous(labels=comma) + geom_text(data=eother, aes(label=STATE), size=3.25)"
   ]
  },
  {
   "cell_type": "code",
   "execution_count": 26,
   "metadata": {},
   "outputs": [],
   "source": [
    "ggsave(\"elife_attend.pdf\", width=7, height=7)"
   ]
  },
  {
   "cell_type": "code",
   "execution_count": 27,
   "metadata": {},
   "outputs": [
    {
     "data": {
      "text/html": [
       "<table>\n",
       "<thead><tr><th scope=col>STATE</th><th scope=col>audio</th><th scope=col>attendance</th></tr></thead>\n",
       "<tbody>\n",
       "\t<tr><td>AK       </td><td> 129476  </td><td>  3470857</td></tr>\n",
       "\t<tr><td>AL       </td><td> 430265  </td><td> 19210380</td></tr>\n",
       "\t<tr><td>AR       </td><td> 242426  </td><td> 12011638</td></tr>\n",
       "\t<tr><td>AS       </td><td>    895  </td><td>    77196</td></tr>\n",
       "\t<tr><td>AZ       </td><td> 632268  </td><td> 29590758</td></tr>\n",
       "\t<tr><td>CA       </td><td>3469511  </td><td>184443957</td></tr>\n",
       "</tbody>\n",
       "</table>\n"
      ],
      "text/latex": [
       "\\begin{tabular}{r|lll}\n",
       " STATE & audio & attendance\\\\\n",
       "\\hline\n",
       "\t AK        &  129476   &   3470857\\\\\n",
       "\t AL        &  430265   &  19210380\\\\\n",
       "\t AR        &  242426   &  12011638\\\\\n",
       "\t AS        &     895   &     77196\\\\\n",
       "\t AZ        &  632268   &  29590758\\\\\n",
       "\t CA        & 3469511   & 184443957\\\\\n",
       "\\end{tabular}\n"
      ],
      "text/markdown": [
       "\n",
       "STATE | audio | attendance | \n",
       "|---|---|---|---|---|---|\n",
       "| AK        |  129476   |   3470857 | \n",
       "| AL        |  430265   |  19210380 | \n",
       "| AR        |  242426   |  12011638 | \n",
       "| AS        |     895   |     77196 | \n",
       "| AZ        |  632268   |  29590758 | \n",
       "| CA        | 3469511   | 184443957 | \n",
       "\n",
       "\n"
      ],
      "text/plain": [
       "  STATE audio   attendance\n",
       "1 AK     129476   3470857 \n",
       "2 AL     430265  19210380 \n",
       "3 AR     242426  12011638 \n",
       "4 AS        895     77196 \n",
       "5 AZ     632268  29590758 \n",
       "6 CA    3469511 184443957 "
      ]
     },
     "metadata": {},
     "output_type": "display_data"
    }
   ],
   "source": [
    "audother = other %>%\n",
    "summarize(audio = sum(AUDIO.MATERIALS), \n",
    "          attendance = sum(attendance))\n",
    "head(audother)"
   ]
  },
  {
   "cell_type": "code",
   "execution_count": 28,
   "metadata": {},
   "outputs": [
    {
     "data": {},
     "metadata": {},
     "output_type": "display_data"
    },
    {
     "data": {
      "image/png": "[encoded data removed]",
      "text/plain": [
       "plot without title"
      ]
     },
     "metadata": {},
     "output_type": "display_data"
    }
   ],
   "source": [
    "ggplot(audother, aes(x = attendance, y = audio)) + geom_point() + geom_smooth(method=lm, se=FALSE) + \n",
    "scale_y_continuous(labels=comma) + scale_x_continuous(labels=comma) + geom_text(data=audother, aes(label=STATE), size=3.25)"
   ]
  },
  {
   "cell_type": "code",
   "execution_count": 30,
   "metadata": {},
   "outputs": [],
   "source": [
    "ggsave(\"audio_attend.pdf\", width=7, height=7)"
   ]
  },
  {
   "cell_type": "code",
   "execution_count": 31,
   "metadata": {},
   "outputs": [],
   "source": [
    "vidother = other %>%\n",
    "summarize(video = sum(VIDEO.MATERIALS), \n",
    "          attendance = sum(attendance))"
   ]
  },
  {
   "cell_type": "code",
   "execution_count": 32,
   "metadata": {},
   "outputs": [
    {
     "data": {},
     "metadata": {},
     "output_type": "display_data"
    },
    {
     "data": {
      "image/png": "[encoded data removed]",
      "text/plain": [
       "plot without title"
      ]
     },
     "metadata": {},
     "output_type": "display_data"
    }
   ],
   "source": [
    "ggplot(vidother, aes(x = attendance, y = video)) + geom_point() + geom_smooth(method=lm, se=FALSE) + \n",
    "scale_y_continuous(labels=comma) + scale_x_continuous(labels=comma) + geom_text(data=vidother, aes(label=STATE), size=3.25)"
   ]
  },
  {
   "cell_type": "code",
   "execution_count": 33,
   "metadata": {},
   "outputs": [],
   "source": [
    "ggsave(\"team_video.pdf\", width=7, height=7)"
   ]
  },
  {
   "cell_type": "code",
   "execution_count": 34,
   "metadata": {},
   "outputs": [],
   "source": [
    "pother = other %>%\n",
    "summarize(prgrms = sum(TOTAL.PROGRAMS), \n",
    "          attendance = sum(attendance))"
   ]
  },
  {
   "cell_type": "code",
   "execution_count": 35,
   "metadata": {},
   "outputs": [
    {
     "data": {},
     "metadata": {},
     "output_type": "display_data"
    },
    {
     "data": {
      "image/png": "[encoded data removed]",
      "text/plain": [
       "plot without title"
      ]
     },
     "metadata": {},
     "output_type": "display_data"
    }
   ],
   "source": [
    "ggplot(pother, aes(x = attendance, y = prgrms)) + geom_point() + geom_smooth(method=lm, se=FALSE) + \n",
    "scale_y_continuous(labels=comma) + scale_x_continuous(labels=comma) + geom_text(data=pother, aes(label=STATE), size=3.25)"
   ]
  },
  {
   "cell_type": "code",
   "execution_count": 36,
   "metadata": {},
   "outputs": [],
   "source": [
    "ggsave(\"activities_attend.pdf\", width=7, height=7)"
   ]
  },
  {
   "cell_type": "code",
   "execution_count": 37,
   "metadata": {},
   "outputs": [],
   "source": [
    "compother = other %>%\n",
    "summarize(computers = sum(COMPUTER.USES),\n",
    "          attendance = sum(attendance))"
   ]
  },
  {
   "cell_type": "code",
   "execution_count": 38,
   "metadata": {},
   "outputs": [
    {
     "data": {},
     "metadata": {},
     "output_type": "display_data"
    },
    {
     "data": {
      "image/png": "[encoded data removed]",
      "text/plain": [
       "plot without title"
      ]
     },
     "metadata": {},
     "output_type": "display_data"
    }
   ],
   "source": [
    "ggplot(compother, aes(x = attendance, y = computers)) + geom_point() + geom_smooth(method=lm, se=FALSE) + \n",
    "scale_y_continuous(labels=comma) + scale_x_continuous(labels=comma) + geom_text(data=compother, aes(label=STATE), size=3.25)"
   ]
  },
  {
   "cell_type": "code",
   "execution_count": 39,
   "metadata": {},
   "outputs": [],
   "source": [
    "ggsave(\"info_highway_attend.pdf\", width=7, height=7)"
   ]
  }
 ],
 "metadata": {
  "kernelspec": {
   "display_name": "R",
   "language": "R",
   "name": "ir"
  },
  "language_info": {
   "codemirror_mode": "r",
   "file_extension": ".r",
   "mimetype": "text/x-r-source",
   "name": "R",
   "pygments_lexer": "r",
   "version": "3.4.3"
  }
 },
 "nbformat": 4,
 "nbformat_minor": 2
}
